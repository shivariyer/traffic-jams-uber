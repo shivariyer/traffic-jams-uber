{
 "cells": [
  {
   "cell_type": "code",
   "execution_count": 1,
   "id": "39fd1cf3-3152-40a0-afe7-8fb560d3bf82",
   "metadata": {},
   "outputs": [],
   "source": [
    "import pandas as pd\n",
    "from copy import deepcopy\n",
    "import os\n",
    "from joblib import Parallel, delayed\n",
    "\n",
    "import numpy as np\n",
    "import matplotlib.pyplot as plt\n",
    "from scipy import optimize\n",
    "from tqdm import tqdm\n",
    "from glob import glob\n",
    "\n",
    "import pwlf"
   ]
  },
  {
   "cell_type": "code",
   "execution_count": 2,
   "id": "ed678bb9-fa55-491c-b460-b5d0c04a480d",
   "metadata": {},
   "outputs": [],
   "source": [
    "import warnings\n",
    "warnings.filterwarnings('ignore')"
   ]
  },
  {
   "cell_type": "code",
   "execution_count": 3,
   "id": "93fde0d6-13f0-4aea-82e3-d18b6c687b53",
   "metadata": {
    "tags": []
   },
   "outputs": [],
   "source": [
    "def canbefloat(x):\n",
    "    try:\n",
    "        float(x)\n",
    "    except:\n",
    "        return False\n",
    "    else:\n",
    "        return True\n",
    "ucanbefloat = lambda t: canbefloat(t)\n",
    "vfunc = np.vectorize(ucanbefloat)"
   ]
  },
  {
   "cell_type": "code",
   "execution_count": null,
   "id": "50b60490-8353-4ddf-a1a2-7a1f9c6e2e5d",
   "metadata": {},
   "outputs": [],
   "source": [
    "files = os.listdir('/scratch/ab9738/traffic/data/Sao_Paulo/per-segment/')[:5]\n",
    "jams_df = pd.DataFrame(columns=['osm_way_id', 'utc_timestamp', 'speed_kph_mean'])\n",
    "cols = pd.read_csv('/scratch/ab9738/traffic/data/Sao_Paulo/movement-speeds-hourly-sao-paulo-2018-1.csv',nrows=1).columns\n",
    "# data_df = pd.DataFrame(columns=cols)\n",
    "for test_file in files:\n",
    "    try:\n",
    "        wayid = test_file.split(\".\")[0]\n",
    "        test_file = '/scratch/ab9738/traffic/data/Sao_Paulo/per-segment/'+test_file\n",
    "\n",
    "        df = pd.read_csv(test_file,error_bad_lines=False,header=None,warn_bad_lines=False)\n",
    "        df.columns = cols\n",
    "        df = df.dropna()\n",
    "        timestamp = df['utc_timestamp']\n",
    "        timestamp = pd.to_datetime(timestamp, format=\"%Y-%m-%dT%H:%M:%S.000Z\", errors='coerce')\n",
    "        df['utc_timestamp'] = timestamp\n",
    "        df = df.dropna()\n",
    "        df = df.sort_values(by='utc_timestamp')\n",
    "        tmp = df['speed_kph_mean'].to_numpy()\n",
    "        df = df[vfunc(tmp)]\n",
    "\n",
    "        series = tmp[vfunc(tmp)].astype(np.float)\n",
    "        indices = np.cumsum(np.random.poisson(8, int(len(series)/8)))\n",
    "        indices = indices[indices<len(series)]\n",
    "        speed_sample = series[indices]\n",
    "\n",
    "        speed_sample.sort()\n",
    "        speed_sample = speed_sample[::-1]\n",
    "\n",
    "        ind = np.arange(len(speed_sample))\n",
    "        ind = ind/len(speed_sample)\n",
    "\n",
    "        pwlf_func = pwlf.PiecewiseLinFit(ind, speed_sample)\n",
    "        breaks = pwlf_func.fit(3, x_c=[ind[0],ind[-1]], y_c=[speed_sample[0],speed_sample[-1]])\n",
    "        x_lin = np.linspace(ind[0], ind[-1], 1000)\n",
    "        y_lin = pwlf_func.predict(x_lin)\n",
    "        s_vals = pwlf_func.predict(breaks)\n",
    "        s1, s2 = s_vals[2], s_vals[1]\n",
    "        jam_th = (s1+s2)/4\n",
    "        jams_df_ = df[series<jam_th]\n",
    "        jams_df_ = jams_df_[['osm_way_id', 'utc_timestamp', 'speed_kph_mean']]\n",
    "\n",
    "        if(len(jams_df_)):\n",
    "            jams_df_ = jams_df_.reset_index()\n",
    "            df_copy_ = deepcopy(jams_df_)\n",
    "            i = 1\n",
    "            while(i != len(jams_df_)):\n",
    "                if(jams_df_.iloc[-i]['utc_timestamp']-pd.Timedelta(hours=1)==jams_df_.iloc[-i-1]['utc_timestamp']):\n",
    "                    df_copy_ = df_copy_.drop(len(jams_df_)-i)\n",
    "                i = i+1\n",
    "            jams_df_ = df_copy_\n",
    "        jams_df = pd.concat([jams_df, jams_df_])\n",
    "        # data_df = pd.concat([data_df, df])\n",
    "\n",
    "    except:\n",
    "        continue"
   ]
  },
  {
   "cell_type": "code",
   "execution_count": null,
   "id": "d6ad76de-11ba-4a87-a596-9b0415416a6f",
   "metadata": {},
   "outputs": [],
   "source": [
    "jams_df = jams_df.reset_index(drop=True)"
   ]
  },
  {
   "cell_type": "code",
   "execution_count": null,
   "id": "46196919-5e30-4de9-b5ed-8d9a53fa6150",
   "metadata": {},
   "outputs": [],
   "source": [
    "# data_df = data_df.reset_index(drop=True)"
   ]
  },
  {
   "cell_type": "code",
   "execution_count": null,
   "id": "ec5408b4-4f21-40ee-a9e8-eca07f097aeb",
   "metadata": {},
   "outputs": [],
   "source": []
  }
 ],
 "metadata": {
  "kernelspec": {
   "display_name": "Python 3 (ipykernel)",
   "language": "python",
   "name": "python3"
  },
  "language_info": {
   "codemirror_mode": {
    "name": "ipython",
    "version": 3
   },
   "file_extension": ".py",
   "mimetype": "text/x-python",
   "name": "python",
   "nbconvert_exporter": "python",
   "pygments_lexer": "ipython3",
   "version": "3.9.13"
  }
 },
 "nbformat": 4,
 "nbformat_minor": 5
}
