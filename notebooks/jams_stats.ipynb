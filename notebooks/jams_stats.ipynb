{
 "cells": [
  {
   "cell_type": "code",
   "execution_count": 2,
   "id": "5032df02-89ba-4c07-b4fa-503a377de270",
   "metadata": {},
   "outputs": [],
   "source": [
    "import pandas as pd\n",
    "from copy import deepcopy\n",
    "import os\n",
    "from joblib import Parallel, delayed\n",
    "\n",
    "import numpy as np\n",
    "import matplotlib.pyplot as plt\n",
    "from scipy import optimize\n",
    "from tqdm import tqdm\n",
    "from glob import glob\n",
    "\n",
    "import pwlf"
   ]
  },
  {
   "cell_type": "code",
   "execution_count": 3,
   "id": "5a30e484-56b6-4fd0-a500-054ba986fd83",
   "metadata": {},
   "outputs": [],
   "source": [
    "import warnings\n",
    "warnings.filterwarnings('ignore')"
   ]
  },
  {
   "cell_type": "markdown",
   "id": "9032101f-e551-4183-8b16-d2d23d54b92d",
   "metadata": {},
   "source": [
    "## Load and Filter Speed File"
   ]
  },
  {
   "cell_type": "code",
   "execution_count": 146,
   "id": "3d669e29-5d2a-49b8-b24d-b782103a6621",
   "metadata": {},
   "outputs": [],
   "source": [
    "speed_file = '/scratch/ab9738/traffic/traffic-jams-uber/results/speeds_nairobi.csv'\n",
    "speed_df = pd.read_csv(speed_file)"
   ]
  },
  {
   "cell_type": "code",
   "execution_count": 147,
   "id": "67a769e8-7b3a-4684-b724-1d90fcaacd7c",
   "metadata": {},
   "outputs": [
    {
     "data": {
      "text/html": [
       "<div>\n",
       "<style scoped>\n",
       "    .dataframe tbody tr th:only-of-type {\n",
       "        vertical-align: middle;\n",
       "    }\n",
       "\n",
       "    .dataframe tbody tr th {\n",
       "        vertical-align: top;\n",
       "    }\n",
       "\n",
       "    .dataframe thead th {\n",
       "        text-align: right;\n",
       "    }\n",
       "</style>\n",
       "<table border=\"1\" class=\"dataframe\">\n",
       "  <thead>\n",
       "    <tr style=\"text-align: right;\">\n",
       "      <th></th>\n",
       "      <th>osm_wayid</th>\n",
       "      <th>s1</th>\n",
       "      <th>s2</th>\n",
       "      <th>max_speed</th>\n",
       "      <th>min_speed</th>\n",
       "    </tr>\n",
       "  </thead>\n",
       "  <tbody>\n",
       "    <tr>\n",
       "      <th>0</th>\n",
       "      <td>677812730</td>\n",
       "      <td>13.923265</td>\n",
       "      <td>20.757885</td>\n",
       "      <td>45.092</td>\n",
       "      <td>3.880</td>\n",
       "    </tr>\n",
       "    <tr>\n",
       "      <th>1</th>\n",
       "      <td>259886381</td>\n",
       "      <td>33.285743</td>\n",
       "      <td>68.223624</td>\n",
       "      <td>95.375</td>\n",
       "      <td>1.587</td>\n",
       "    </tr>\n",
       "    <tr>\n",
       "      <th>2</th>\n",
       "      <td>583039625</td>\n",
       "      <td>10.621541</td>\n",
       "      <td>29.451291</td>\n",
       "      <td>60.469</td>\n",
       "      <td>3.643</td>\n",
       "    </tr>\n",
       "    <tr>\n",
       "      <th>3</th>\n",
       "      <td>187197450</td>\n",
       "      <td>17.944687</td>\n",
       "      <td>37.758301</td>\n",
       "      <td>66.580</td>\n",
       "      <td>12.060</td>\n",
       "    </tr>\n",
       "    <tr>\n",
       "      <th>4</th>\n",
       "      <td>674984258</td>\n",
       "      <td>19.562451</td>\n",
       "      <td>35.270415</td>\n",
       "      <td>67.559</td>\n",
       "      <td>1.225</td>\n",
       "    </tr>\n",
       "    <tr>\n",
       "      <th>...</th>\n",
       "      <td>...</td>\n",
       "      <td>...</td>\n",
       "      <td>...</td>\n",
       "      <td>...</td>\n",
       "      <td>...</td>\n",
       "    </tr>\n",
       "    <tr>\n",
       "      <th>3080</th>\n",
       "      <td>532650195</td>\n",
       "      <td>26.741411</td>\n",
       "      <td>38.448295</td>\n",
       "      <td>65.297</td>\n",
       "      <td>12.822</td>\n",
       "    </tr>\n",
       "    <tr>\n",
       "      <th>3081</th>\n",
       "      <td>95792925</td>\n",
       "      <td>10.632660</td>\n",
       "      <td>21.225265</td>\n",
       "      <td>46.629</td>\n",
       "      <td>0.748</td>\n",
       "    </tr>\n",
       "    <tr>\n",
       "      <th>3082</th>\n",
       "      <td>239795145</td>\n",
       "      <td>13.248042</td>\n",
       "      <td>22.192110</td>\n",
       "      <td>75.087</td>\n",
       "      <td>9.528</td>\n",
       "    </tr>\n",
       "    <tr>\n",
       "      <th>3083</th>\n",
       "      <td>563011788</td>\n",
       "      <td>21.410131</td>\n",
       "      <td>29.021804</td>\n",
       "      <td>55.127</td>\n",
       "      <td>0.738</td>\n",
       "    </tr>\n",
       "    <tr>\n",
       "      <th>3084</th>\n",
       "      <td>39962891</td>\n",
       "      <td>16.717401</td>\n",
       "      <td>34.077145</td>\n",
       "      <td>89.936</td>\n",
       "      <td>11.757</td>\n",
       "    </tr>\n",
       "  </tbody>\n",
       "</table>\n",
       "<p>3085 rows × 5 columns</p>\n",
       "</div>"
      ],
      "text/plain": [
       "      osm_wayid         s1         s2  max_speed  min_speed\n",
       "0     677812730  13.923265  20.757885     45.092      3.880\n",
       "1     259886381  33.285743  68.223624     95.375      1.587\n",
       "2     583039625  10.621541  29.451291     60.469      3.643\n",
       "3     187197450  17.944687  37.758301     66.580     12.060\n",
       "4     674984258  19.562451  35.270415     67.559      1.225\n",
       "...         ...        ...        ...        ...        ...\n",
       "3080  532650195  26.741411  38.448295     65.297     12.822\n",
       "3081   95792925  10.632660  21.225265     46.629      0.748\n",
       "3082  239795145  13.248042  22.192110     75.087      9.528\n",
       "3083  563011788  21.410131  29.021804     55.127      0.738\n",
       "3084   39962891  16.717401  34.077145     89.936     11.757\n",
       "\n",
       "[3085 rows x 5 columns]"
      ]
     },
     "execution_count": 147,
     "metadata": {},
     "output_type": "execute_result"
    }
   ],
   "source": [
    "speed_df"
   ]
  },
  {
   "cell_type": "code",
   "execution_count": 129,
   "id": "09bf0fd7-6855-4a06-9354-00b210396460",
   "metadata": {},
   "outputs": [
    {
     "data": {
      "text/html": [
       "<div>\n",
       "<style scoped>\n",
       "    .dataframe tbody tr th:only-of-type {\n",
       "        vertical-align: middle;\n",
       "    }\n",
       "\n",
       "    .dataframe tbody tr th {\n",
       "        vertical-align: top;\n",
       "    }\n",
       "\n",
       "    .dataframe thead th {\n",
       "        text-align: right;\n",
       "    }\n",
       "</style>\n",
       "<table border=\"1\" class=\"dataframe\">\n",
       "  <thead>\n",
       "    <tr style=\"text-align: right;\">\n",
       "      <th></th>\n",
       "      <th>osm_wayid</th>\n",
       "      <th>s1</th>\n",
       "      <th>s2</th>\n",
       "      <th>max_speed</th>\n",
       "      <th>min_speed</th>\n",
       "    </tr>\n",
       "  </thead>\n",
       "  <tbody>\n",
       "    <tr>\n",
       "      <th>0</th>\n",
       "      <td>188462840</td>\n",
       "      <td>41.231892</td>\n",
       "      <td>52.068787</td>\n",
       "      <td>78.239</td>\n",
       "      <td>5.250</td>\n",
       "    </tr>\n",
       "    <tr>\n",
       "      <th>1</th>\n",
       "      <td>152906315</td>\n",
       "      <td>18.761777</td>\n",
       "      <td>37.430387</td>\n",
       "      <td>9.998</td>\n",
       "      <td>1.507</td>\n",
       "    </tr>\n",
       "    <tr>\n",
       "      <th>2</th>\n",
       "      <td>530679492</td>\n",
       "      <td>34.256919</td>\n",
       "      <td>39.506363</td>\n",
       "      <td>55.169</td>\n",
       "      <td>8.375</td>\n",
       "    </tr>\n",
       "    <tr>\n",
       "      <th>3</th>\n",
       "      <td>152980592</td>\n",
       "      <td>13.734787</td>\n",
       "      <td>27.509556</td>\n",
       "      <td>48.585</td>\n",
       "      <td>7.619</td>\n",
       "    </tr>\n",
       "    <tr>\n",
       "      <th>4</th>\n",
       "      <td>159518583</td>\n",
       "      <td>18.355847</td>\n",
       "      <td>27.500316</td>\n",
       "      <td>45.164</td>\n",
       "      <td>6.436</td>\n",
       "    </tr>\n",
       "    <tr>\n",
       "      <th>...</th>\n",
       "      <td>...</td>\n",
       "      <td>...</td>\n",
       "      <td>...</td>\n",
       "      <td>...</td>\n",
       "      <td>...</td>\n",
       "    </tr>\n",
       "    <tr>\n",
       "      <th>61228</th>\n",
       "      <td>95796003</td>\n",
       "      <td>1.437488</td>\n",
       "      <td>14.031042</td>\n",
       "      <td>33.670</td>\n",
       "      <td>1.125</td>\n",
       "    </tr>\n",
       "    <tr>\n",
       "      <th>61229</th>\n",
       "      <td>30636734</td>\n",
       "      <td>26.154080</td>\n",
       "      <td>37.270171</td>\n",
       "      <td>307.000</td>\n",
       "      <td>4.113</td>\n",
       "    </tr>\n",
       "    <tr>\n",
       "      <th>61230</th>\n",
       "      <td>221909500</td>\n",
       "      <td>16.842339</td>\n",
       "      <td>27.198826</td>\n",
       "      <td>60.299</td>\n",
       "      <td>6.760</td>\n",
       "    </tr>\n",
       "    <tr>\n",
       "      <th>61231</th>\n",
       "      <td>252061515</td>\n",
       "      <td>14.899487</td>\n",
       "      <td>41.365811</td>\n",
       "      <td>9.998</td>\n",
       "      <td>0.841</td>\n",
       "    </tr>\n",
       "    <tr>\n",
       "      <th>61232</th>\n",
       "      <td>421515212</td>\n",
       "      <td>17.835613</td>\n",
       "      <td>39.036648</td>\n",
       "      <td>126.000</td>\n",
       "      <td>7.555</td>\n",
       "    </tr>\n",
       "  </tbody>\n",
       "</table>\n",
       "<p>61231 rows × 5 columns</p>\n",
       "</div>"
      ],
      "text/plain": [
       "       osm_wayid         s1         s2  max_speed  min_speed\n",
       "0      188462840  41.231892  52.068787     78.239      5.250\n",
       "1      152906315  18.761777  37.430387      9.998      1.507\n",
       "2      530679492  34.256919  39.506363     55.169      8.375\n",
       "3      152980592  13.734787  27.509556     48.585      7.619\n",
       "4      159518583  18.355847  27.500316     45.164      6.436\n",
       "...          ...        ...        ...        ...        ...\n",
       "61228   95796003   1.437488  14.031042     33.670      1.125\n",
       "61229   30636734  26.154080  37.270171    307.000      4.113\n",
       "61230  221909500  16.842339  27.198826     60.299      6.760\n",
       "61231  252061515  14.899487  41.365811      9.998      0.841\n",
       "61232  421515212  17.835613  39.036648    126.000      7.555\n",
       "\n",
       "[61231 rows x 5 columns]"
      ]
     },
     "execution_count": 129,
     "metadata": {},
     "output_type": "execute_result"
    }
   ],
   "source": [
    "# for sao_paulo only\n",
    "def try_float(x):\n",
    "    try:\n",
    "        float(x)\n",
    "        return True\n",
    "    except:\n",
    "        return False\n",
    "\n",
    "speed_df = speed_df.loc[speed_df.min_speed.apply(try_float)]\n",
    "speed_df = speed_df.loc[speed_df.max_speed.apply(try_float)]\n",
    "speed_df = speed_df.loc[speed_df.s1.apply(try_float)]\n",
    "speed_df = speed_df.loc[speed_df.s2.apply(try_float)]\n",
    "\n",
    "speed_df['s1'] = speed_df['s1'].astype(float)\n",
    "speed_df['s2'] = speed_df['s2'].astype(float)\n",
    "speed_df['min_speed'] = speed_df['min_speed'].astype(float)\n",
    "speed_df['max_speed'] = speed_df['max_speed'].astype(float)\n",
    "\n",
    "speed_df"
   ]
  },
  {
   "cell_type": "code",
   "execution_count": 148,
   "id": "107ed8d6-a169-4de0-9d49-ff9206978328",
   "metadata": {},
   "outputs": [],
   "source": [
    "speed_df = speed_df[speed_df['min_speed']<speed_df['s1']]\n",
    "speed_df = speed_df[speed_df['s1']<speed_df['s2']]\n",
    "speed_df = speed_df[speed_df['s2']<speed_df['max_speed']]\n",
    "speed_df = speed_df.reset_index(drop=True)"
   ]
  },
  {
   "cell_type": "code",
   "execution_count": 149,
   "id": "101da6ad-4f33-4a83-8d15-a7cd4c39712f",
   "metadata": {},
   "outputs": [
    {
     "data": {
      "text/html": [
       "<div>\n",
       "<style scoped>\n",
       "    .dataframe tbody tr th:only-of-type {\n",
       "        vertical-align: middle;\n",
       "    }\n",
       "\n",
       "    .dataframe tbody tr th {\n",
       "        vertical-align: top;\n",
       "    }\n",
       "\n",
       "    .dataframe thead th {\n",
       "        text-align: right;\n",
       "    }\n",
       "</style>\n",
       "<table border=\"1\" class=\"dataframe\">\n",
       "  <thead>\n",
       "    <tr style=\"text-align: right;\">\n",
       "      <th></th>\n",
       "      <th>osm_wayid</th>\n",
       "      <th>s1</th>\n",
       "      <th>s2</th>\n",
       "      <th>max_speed</th>\n",
       "      <th>min_speed</th>\n",
       "    </tr>\n",
       "  </thead>\n",
       "  <tbody>\n",
       "    <tr>\n",
       "      <th>0</th>\n",
       "      <td>677812730</td>\n",
       "      <td>13.923265</td>\n",
       "      <td>20.757885</td>\n",
       "      <td>45.092</td>\n",
       "      <td>3.880</td>\n",
       "    </tr>\n",
       "    <tr>\n",
       "      <th>1</th>\n",
       "      <td>259886381</td>\n",
       "      <td>33.285743</td>\n",
       "      <td>68.223624</td>\n",
       "      <td>95.375</td>\n",
       "      <td>1.587</td>\n",
       "    </tr>\n",
       "    <tr>\n",
       "      <th>2</th>\n",
       "      <td>583039625</td>\n",
       "      <td>10.621541</td>\n",
       "      <td>29.451291</td>\n",
       "      <td>60.469</td>\n",
       "      <td>3.643</td>\n",
       "    </tr>\n",
       "    <tr>\n",
       "      <th>3</th>\n",
       "      <td>187197450</td>\n",
       "      <td>17.944687</td>\n",
       "      <td>37.758301</td>\n",
       "      <td>66.580</td>\n",
       "      <td>12.060</td>\n",
       "    </tr>\n",
       "    <tr>\n",
       "      <th>4</th>\n",
       "      <td>674984258</td>\n",
       "      <td>19.562451</td>\n",
       "      <td>35.270415</td>\n",
       "      <td>67.559</td>\n",
       "      <td>1.225</td>\n",
       "    </tr>\n",
       "    <tr>\n",
       "      <th>...</th>\n",
       "      <td>...</td>\n",
       "      <td>...</td>\n",
       "      <td>...</td>\n",
       "      <td>...</td>\n",
       "      <td>...</td>\n",
       "    </tr>\n",
       "    <tr>\n",
       "      <th>3058</th>\n",
       "      <td>532650195</td>\n",
       "      <td>26.741411</td>\n",
       "      <td>38.448295</td>\n",
       "      <td>65.297</td>\n",
       "      <td>12.822</td>\n",
       "    </tr>\n",
       "    <tr>\n",
       "      <th>3059</th>\n",
       "      <td>95792925</td>\n",
       "      <td>10.632660</td>\n",
       "      <td>21.225265</td>\n",
       "      <td>46.629</td>\n",
       "      <td>0.748</td>\n",
       "    </tr>\n",
       "    <tr>\n",
       "      <th>3060</th>\n",
       "      <td>239795145</td>\n",
       "      <td>13.248042</td>\n",
       "      <td>22.192110</td>\n",
       "      <td>75.087</td>\n",
       "      <td>9.528</td>\n",
       "    </tr>\n",
       "    <tr>\n",
       "      <th>3061</th>\n",
       "      <td>563011788</td>\n",
       "      <td>21.410131</td>\n",
       "      <td>29.021804</td>\n",
       "      <td>55.127</td>\n",
       "      <td>0.738</td>\n",
       "    </tr>\n",
       "    <tr>\n",
       "      <th>3062</th>\n",
       "      <td>39962891</td>\n",
       "      <td>16.717401</td>\n",
       "      <td>34.077145</td>\n",
       "      <td>89.936</td>\n",
       "      <td>11.757</td>\n",
       "    </tr>\n",
       "  </tbody>\n",
       "</table>\n",
       "<p>3063 rows × 5 columns</p>\n",
       "</div>"
      ],
      "text/plain": [
       "      osm_wayid         s1         s2  max_speed  min_speed\n",
       "0     677812730  13.923265  20.757885     45.092      3.880\n",
       "1     259886381  33.285743  68.223624     95.375      1.587\n",
       "2     583039625  10.621541  29.451291     60.469      3.643\n",
       "3     187197450  17.944687  37.758301     66.580     12.060\n",
       "4     674984258  19.562451  35.270415     67.559      1.225\n",
       "...         ...        ...        ...        ...        ...\n",
       "3058  532650195  26.741411  38.448295     65.297     12.822\n",
       "3059   95792925  10.632660  21.225265     46.629      0.748\n",
       "3060  239795145  13.248042  22.192110     75.087      9.528\n",
       "3061  563011788  21.410131  29.021804     55.127      0.738\n",
       "3062   39962891  16.717401  34.077145     89.936     11.757\n",
       "\n",
       "[3063 rows x 5 columns]"
      ]
     },
     "execution_count": 149,
     "metadata": {},
     "output_type": "execute_result"
    }
   ],
   "source": [
    "speed_df"
   ]
  },
  {
   "cell_type": "markdown",
   "id": "431e08fe-b1ee-4690-9ca0-468aa9894fe7",
   "metadata": {},
   "source": [
    "## Load, Process and Filter Jam File"
   ]
  },
  {
   "cell_type": "code",
   "execution_count": 150,
   "id": "e7333517-12ec-4538-94cf-d31c3e451738",
   "metadata": {},
   "outputs": [],
   "source": [
    "jam_file = '/scratch/ab9738/traffic/traffic-jams-uber/results/jams_nairobi.csv'\n",
    "jam_df = pd.read_csv(jam_file)"
   ]
  },
  {
   "cell_type": "code",
   "execution_count": 151,
   "id": "d5be1542-7fb1-474a-ab19-0b6a5720020c",
   "metadata": {},
   "outputs": [
    {
     "data": {
      "text/html": [
       "<div>\n",
       "<style scoped>\n",
       "    .dataframe tbody tr th:only-of-type {\n",
       "        vertical-align: middle;\n",
       "    }\n",
       "\n",
       "    .dataframe tbody tr th {\n",
       "        vertical-align: top;\n",
       "    }\n",
       "\n",
       "    .dataframe thead th {\n",
       "        text-align: right;\n",
       "    }\n",
       "</style>\n",
       "<table border=\"1\" class=\"dataframe\">\n",
       "  <thead>\n",
       "    <tr style=\"text-align: right;\">\n",
       "      <th></th>\n",
       "      <th>osm_way_id</th>\n",
       "      <th>utc_timestamp</th>\n",
       "      <th>speed_kph_mean</th>\n",
       "      <th>Jam_Duration</th>\n",
       "    </tr>\n",
       "  </thead>\n",
       "  <tbody>\n",
       "    <tr>\n",
       "      <th>0</th>\n",
       "      <td>677812730</td>\n",
       "      <td>2018-01-31 18:00:00</td>\n",
       "      <td>13.039</td>\n",
       "      <td>0 days 00:00:00</td>\n",
       "    </tr>\n",
       "    <tr>\n",
       "      <th>1</th>\n",
       "      <td>677812730</td>\n",
       "      <td>2019-04-05 16:00:00</td>\n",
       "      <td>13.064</td>\n",
       "      <td>0 days 00:00:00</td>\n",
       "    </tr>\n",
       "    <tr>\n",
       "      <th>2</th>\n",
       "      <td>677812730</td>\n",
       "      <td>2019-05-08 17:00:00</td>\n",
       "      <td>13.131</td>\n",
       "      <td>0 days 00:00:00</td>\n",
       "    </tr>\n",
       "    <tr>\n",
       "      <th>3</th>\n",
       "      <td>677812730</td>\n",
       "      <td>2019-05-16 16:00:00</td>\n",
       "      <td>11.932</td>\n",
       "      <td>0 days 00:00:00</td>\n",
       "    </tr>\n",
       "    <tr>\n",
       "      <th>4</th>\n",
       "      <td>677812730</td>\n",
       "      <td>2019-06-28 18:00:00</td>\n",
       "      <td>11.762</td>\n",
       "      <td>0 days 00:00:00</td>\n",
       "    </tr>\n",
       "    <tr>\n",
       "      <th>...</th>\n",
       "      <td>...</td>\n",
       "      <td>...</td>\n",
       "      <td>...</td>\n",
       "      <td>...</td>\n",
       "    </tr>\n",
       "    <tr>\n",
       "      <th>4103225</th>\n",
       "      <td>563011788</td>\n",
       "      <td>2020-01-08 14:00:00</td>\n",
       "      <td>11.884</td>\n",
       "      <td>0 days 02:00:00</td>\n",
       "    </tr>\n",
       "    <tr>\n",
       "      <th>4103226</th>\n",
       "      <td>563011788</td>\n",
       "      <td>2020-01-09 14:00:00</td>\n",
       "      <td>10.890</td>\n",
       "      <td>0 days 01:00:00</td>\n",
       "    </tr>\n",
       "    <tr>\n",
       "      <th>4103227</th>\n",
       "      <td>563011788</td>\n",
       "      <td>2020-01-13 14:00:00</td>\n",
       "      <td>9.175</td>\n",
       "      <td>0 days 02:00:00</td>\n",
       "    </tr>\n",
       "    <tr>\n",
       "      <th>4103228</th>\n",
       "      <td>563011788</td>\n",
       "      <td>2020-01-24 11:00:00</td>\n",
       "      <td>10.797</td>\n",
       "      <td>0 days 01:00:00</td>\n",
       "    </tr>\n",
       "    <tr>\n",
       "      <th>4103229</th>\n",
       "      <td>563011788</td>\n",
       "      <td>2020-03-04 15:00:00</td>\n",
       "      <td>10.283</td>\n",
       "      <td>0 days 01:00:00</td>\n",
       "    </tr>\n",
       "  </tbody>\n",
       "</table>\n",
       "<p>4103230 rows × 4 columns</p>\n",
       "</div>"
      ],
      "text/plain": [
       "         osm_way_id        utc_timestamp  speed_kph_mean     Jam_Duration\n",
       "0         677812730  2018-01-31 18:00:00          13.039  0 days 00:00:00\n",
       "1         677812730  2019-04-05 16:00:00          13.064  0 days 00:00:00\n",
       "2         677812730  2019-05-08 17:00:00          13.131  0 days 00:00:00\n",
       "3         677812730  2019-05-16 16:00:00          11.932  0 days 00:00:00\n",
       "4         677812730  2019-06-28 18:00:00          11.762  0 days 00:00:00\n",
       "...             ...                  ...             ...              ...\n",
       "4103225   563011788  2020-01-08 14:00:00          11.884  0 days 02:00:00\n",
       "4103226   563011788  2020-01-09 14:00:00          10.890  0 days 01:00:00\n",
       "4103227   563011788  2020-01-13 14:00:00           9.175  0 days 02:00:00\n",
       "4103228   563011788  2020-01-24 11:00:00          10.797  0 days 01:00:00\n",
       "4103229   563011788  2020-03-04 15:00:00          10.283  0 days 01:00:00\n",
       "\n",
       "[4103230 rows x 4 columns]"
      ]
     },
     "execution_count": 151,
     "metadata": {},
     "output_type": "execute_result"
    }
   ],
   "source": [
    "jam_df"
   ]
  },
  {
   "cell_type": "code",
   "execution_count": 152,
   "id": "05012676-a8c4-4fbb-95a5-fc5e93573a26",
   "metadata": {},
   "outputs": [],
   "source": [
    "timestamp = jam_df['utc_timestamp']\n",
    "timestamp = pd.to_datetime(timestamp, format=\"%Y-%m-%dT%H:%M:%S\", errors='coerce')\n",
    "jam_df['utc_timestamp'] = timestamp\n",
    "\n",
    "duration = jam_df['Jam_Duration']\n",
    "duration = pd.to_timedelta(duration, errors='coerce')\n",
    "jam_df['Jam_Duration'] = duration"
   ]
  },
  {
   "cell_type": "code",
   "execution_count": 153,
   "id": "f8153a16-c518-4fa4-8aa4-1e19665f085e",
   "metadata": {},
   "outputs": [],
   "source": [
    "# jam_df = jam_df[jam_df['Jam_Duration']!=pd.Timedelta(hours=0)]\n",
    "# jam_df = jam_df.reset_index(drop=True)\n",
    "# jam_df"
   ]
  },
  {
   "cell_type": "code",
   "execution_count": 116,
   "id": "c9a22aa7-43fc-4d59-a49f-16706d17c2f8",
   "metadata": {},
   "outputs": [],
   "source": [
    "# For NYC Only\n",
    "jam_df['speed_mph_mean'] = jam_df['speed_mph_mean']*1.6\n",
    "jam_df.rename(columns={'speed_mph_mean':'speed_kph_mean'}, inplace=True)"
   ]
  },
  {
   "cell_type": "code",
   "execution_count": 154,
   "id": "c9bed52f-9d29-42a7-a36a-01cb4b3efd17",
   "metadata": {},
   "outputs": [],
   "source": [
    "valid_wayids = speed_df['osm_wayid'].to_numpy()\n",
    "jam_df = jam_df.set_index('osm_way_id')\n",
    "idx = jam_df.index.to_numpy()\n",
    "loc_ids = np.intersect1d(valid_wayids, idx)\n",
    "jam_df = jam_df.loc[loc_ids]"
   ]
  },
  {
   "cell_type": "code",
   "execution_count": 155,
   "id": "aa5e4a54-f005-46f9-bb24-7034b4f44ab8",
   "metadata": {},
   "outputs": [
    {
     "data": {
      "text/html": [
       "<div>\n",
       "<style scoped>\n",
       "    .dataframe tbody tr th:only-of-type {\n",
       "        vertical-align: middle;\n",
       "    }\n",
       "\n",
       "    .dataframe tbody tr th {\n",
       "        vertical-align: top;\n",
       "    }\n",
       "\n",
       "    .dataframe thead th {\n",
       "        text-align: right;\n",
       "    }\n",
       "</style>\n",
       "<table border=\"1\" class=\"dataframe\">\n",
       "  <thead>\n",
       "    <tr style=\"text-align: right;\">\n",
       "      <th></th>\n",
       "      <th>utc_timestamp</th>\n",
       "      <th>speed_kph_mean</th>\n",
       "      <th>Jam_Duration</th>\n",
       "    </tr>\n",
       "    <tr>\n",
       "      <th>osm_way_id</th>\n",
       "      <th></th>\n",
       "      <th></th>\n",
       "      <th></th>\n",
       "    </tr>\n",
       "  </thead>\n",
       "  <tbody>\n",
       "    <tr>\n",
       "      <th>4685092</th>\n",
       "      <td>2018-01-15 13:00:00</td>\n",
       "      <td>24.478</td>\n",
       "      <td>0 days</td>\n",
       "    </tr>\n",
       "    <tr>\n",
       "      <th>4685092</th>\n",
       "      <td>2018-01-16 13:00:00</td>\n",
       "      <td>32.975</td>\n",
       "      <td>0 days</td>\n",
       "    </tr>\n",
       "    <tr>\n",
       "      <th>4685092</th>\n",
       "      <td>2018-01-16 13:00:00</td>\n",
       "      <td>13.218</td>\n",
       "      <td>0 days</td>\n",
       "    </tr>\n",
       "    <tr>\n",
       "      <th>4685092</th>\n",
       "      <td>2018-01-26 15:00:00</td>\n",
       "      <td>13.047</td>\n",
       "      <td>0 days</td>\n",
       "    </tr>\n",
       "    <tr>\n",
       "      <th>4685092</th>\n",
       "      <td>2018-01-26 15:00:00</td>\n",
       "      <td>13.658</td>\n",
       "      <td>0 days</td>\n",
       "    </tr>\n",
       "    <tr>\n",
       "      <th>...</th>\n",
       "      <td>...</td>\n",
       "      <td>...</td>\n",
       "      <td>...</td>\n",
       "    </tr>\n",
       "    <tr>\n",
       "      <th>698498913</th>\n",
       "      <td>2020-03-25 14:00:00</td>\n",
       "      <td>20.587</td>\n",
       "      <td>0 days</td>\n",
       "    </tr>\n",
       "    <tr>\n",
       "      <th>698498913</th>\n",
       "      <td>2020-03-26 14:00:00</td>\n",
       "      <td>14.099</td>\n",
       "      <td>0 days</td>\n",
       "    </tr>\n",
       "    <tr>\n",
       "      <th>698498913</th>\n",
       "      <td>2020-03-27 13:00:00</td>\n",
       "      <td>18.860</td>\n",
       "      <td>0 days</td>\n",
       "    </tr>\n",
       "    <tr>\n",
       "      <th>698498913</th>\n",
       "      <td>2020-03-30 13:00:00</td>\n",
       "      <td>14.408</td>\n",
       "      <td>0 days</td>\n",
       "    </tr>\n",
       "    <tr>\n",
       "      <th>698498913</th>\n",
       "      <td>2020-03-31 13:00:00</td>\n",
       "      <td>14.615</td>\n",
       "      <td>0 days</td>\n",
       "    </tr>\n",
       "  </tbody>\n",
       "</table>\n",
       "<p>3930954 rows × 3 columns</p>\n",
       "</div>"
      ],
      "text/plain": [
       "                 utc_timestamp  speed_kph_mean Jam_Duration\n",
       "osm_way_id                                                 \n",
       "4685092    2018-01-15 13:00:00          24.478       0 days\n",
       "4685092    2018-01-16 13:00:00          32.975       0 days\n",
       "4685092    2018-01-16 13:00:00          13.218       0 days\n",
       "4685092    2018-01-26 15:00:00          13.047       0 days\n",
       "4685092    2018-01-26 15:00:00          13.658       0 days\n",
       "...                        ...             ...          ...\n",
       "698498913  2020-03-25 14:00:00          20.587       0 days\n",
       "698498913  2020-03-26 14:00:00          14.099       0 days\n",
       "698498913  2020-03-27 13:00:00          18.860       0 days\n",
       "698498913  2020-03-30 13:00:00          14.408       0 days\n",
       "698498913  2020-03-31 13:00:00          14.615       0 days\n",
       "\n",
       "[3930954 rows x 3 columns]"
      ]
     },
     "execution_count": 155,
     "metadata": {},
     "output_type": "execute_result"
    }
   ],
   "source": [
    "jam_df"
   ]
  },
  {
   "cell_type": "code",
   "execution_count": 158,
   "id": "f1e3a83d-ead1-492d-8d3f-cbc50582a615",
   "metadata": {},
   "outputs": [],
   "source": [
    "jam_df_ = deepcopy(jam_df)"
   ]
  },
  {
   "cell_type": "code",
   "execution_count": 288,
   "id": "c88f01e7-1a24-4a7c-ba8e-38b0599c229b",
   "metadata": {},
   "outputs": [
    {
     "data": {
      "text/html": [
       "<div>\n",
       "<style scoped>\n",
       "    .dataframe tbody tr th:only-of-type {\n",
       "        vertical-align: middle;\n",
       "    }\n",
       "\n",
       "    .dataframe tbody tr th {\n",
       "        vertical-align: top;\n",
       "    }\n",
       "\n",
       "    .dataframe thead th {\n",
       "        text-align: right;\n",
       "    }\n",
       "</style>\n",
       "<table border=\"1\" class=\"dataframe\">\n",
       "  <thead>\n",
       "    <tr style=\"text-align: right;\">\n",
       "      <th></th>\n",
       "      <th>utc_timestamp</th>\n",
       "      <th>speed_kph_mean</th>\n",
       "      <th>Jam_Duration</th>\n",
       "    </tr>\n",
       "    <tr>\n",
       "      <th>osm_way_id</th>\n",
       "      <th></th>\n",
       "      <th></th>\n",
       "      <th></th>\n",
       "    </tr>\n",
       "  </thead>\n",
       "  <tbody>\n",
       "    <tr>\n",
       "      <th>555497908</th>\n",
       "      <td>2018-01-15 13:00:00</td>\n",
       "      <td>12.179</td>\n",
       "      <td>2 days 17:00:00</td>\n",
       "    </tr>\n",
       "    <tr>\n",
       "      <th>555497908</th>\n",
       "      <td>2018-01-25 14:00:00</td>\n",
       "      <td>13.176</td>\n",
       "      <td>0 days 23:00:00</td>\n",
       "    </tr>\n",
       "    <tr>\n",
       "      <th>555497908</th>\n",
       "      <td>2018-02-01 13:00:00</td>\n",
       "      <td>13.424</td>\n",
       "      <td>2 days 03:00:00</td>\n",
       "    </tr>\n",
       "    <tr>\n",
       "      <th>555497908</th>\n",
       "      <td>2018-02-20 13:00:00</td>\n",
       "      <td>13.394</td>\n",
       "      <td>3 days 00:00:00</td>\n",
       "    </tr>\n",
       "    <tr>\n",
       "      <th>555497908</th>\n",
       "      <td>2018-05-02 12:00:00</td>\n",
       "      <td>12.176</td>\n",
       "      <td>0 days 03:00:00</td>\n",
       "    </tr>\n",
       "    <tr>\n",
       "      <th>555497908</th>\n",
       "      <td>2018-06-14 14:00:00</td>\n",
       "      <td>12.981</td>\n",
       "      <td>5 days 20:00:00</td>\n",
       "    </tr>\n",
       "    <tr>\n",
       "      <th>555497908</th>\n",
       "      <td>2019-03-27 13:00:00</td>\n",
       "      <td>7.511</td>\n",
       "      <td>0 days 01:00:00</td>\n",
       "    </tr>\n",
       "    <tr>\n",
       "      <th>555497908</th>\n",
       "      <td>2019-05-13 13:00:00</td>\n",
       "      <td>8.153</td>\n",
       "      <td>0 days 01:00:00</td>\n",
       "    </tr>\n",
       "    <tr>\n",
       "      <th>555497908</th>\n",
       "      <td>2019-06-27 13:00:00</td>\n",
       "      <td>11.110</td>\n",
       "      <td>0 days 01:00:00</td>\n",
       "    </tr>\n",
       "    <tr>\n",
       "      <th>555497908</th>\n",
       "      <td>2019-09-11 13:00:00</td>\n",
       "      <td>12.718</td>\n",
       "      <td>0 days 01:00:00</td>\n",
       "    </tr>\n",
       "    <tr>\n",
       "      <th>555497908</th>\n",
       "      <td>2019-09-13 14:00:00</td>\n",
       "      <td>13.545</td>\n",
       "      <td>0 days 01:00:00</td>\n",
       "    </tr>\n",
       "    <tr>\n",
       "      <th>555497908</th>\n",
       "      <td>2020-01-21 13:00:00</td>\n",
       "      <td>12.487</td>\n",
       "      <td>0 days 02:00:00</td>\n",
       "    </tr>\n",
       "  </tbody>\n",
       "</table>\n",
       "</div>"
      ],
      "text/plain": [
       "                 utc_timestamp  speed_kph_mean    Jam_Duration\n",
       "osm_way_id                                                    \n",
       "555497908  2018-01-15 13:00:00          12.179 2 days 17:00:00\n",
       "555497908  2018-01-25 14:00:00          13.176 0 days 23:00:00\n",
       "555497908  2018-02-01 13:00:00          13.424 2 days 03:00:00\n",
       "555497908  2018-02-20 13:00:00          13.394 3 days 00:00:00\n",
       "555497908  2018-05-02 12:00:00          12.176 0 days 03:00:00\n",
       "555497908  2018-06-14 14:00:00          12.981 5 days 20:00:00\n",
       "555497908  2019-03-27 13:00:00           7.511 0 days 01:00:00\n",
       "555497908  2019-05-13 13:00:00           8.153 0 days 01:00:00\n",
       "555497908  2019-06-27 13:00:00          11.110 0 days 01:00:00\n",
       "555497908  2019-09-11 13:00:00          12.718 0 days 01:00:00\n",
       "555497908  2019-09-13 14:00:00          13.545 0 days 01:00:00\n",
       "555497908  2020-01-21 13:00:00          12.487 0 days 02:00:00"
      ]
     },
     "execution_count": 288,
     "metadata": {},
     "output_type": "execute_result"
    }
   ],
   "source": [
    "jam_df = jam_df_.loc[555497908]\n",
    "jam_df"
   ]
  },
  {
   "cell_type": "markdown",
   "id": "e40d5e9a-c8e0-4a00-bbd8-f30121e56544",
   "metadata": {},
   "source": [
    "## Plot Jam Times"
   ]
  },
  {
   "cell_type": "code",
   "execution_count": 279,
   "id": "cbd996e9-eba8-4564-b006-c91071d2e04e",
   "metadata": {},
   "outputs": [],
   "source": [
    "jam_times = jam_df['utc_timestamp'].dt.strftime('%H').to_numpy().astype(int)"
   ]
  },
  {
   "cell_type": "code",
   "execution_count": 280,
   "id": "c7a40c8e-747b-4c77-9094-2f0929e0544c",
   "metadata": {},
   "outputs": [
    {
     "data": {
      "text/plain": [
       "Text(0, 0.5, 'Relative Frequency')"
      ]
     },
     "execution_count": 280,
     "metadata": {},
     "output_type": "execute_result"
    },
    {
     "data": {
      "image/png": "[encoded data removed]",
      "text/plain": [
       "<Figure size 576x360 with 1 Axes>"
      ]
     },
     "metadata": {
      "needs_background": "light"
     },
     "output_type": "display_data"
    }
   ],
   "source": [
    "plt.figure(figsize=(8,5))\n",
    "plt.hist(jam_times, bins=range(24), weights=np.ones_like(jam_times)/len(jam_times), edgecolor='black')\n",
    "plt.title('Histogram Distribution of Jam Times: Sao Paulo')\n",
    "plt.xlabel('Time of Day')\n",
    "plt.ylabel('Relative Frequency')"
   ]
  },
  {
   "cell_type": "markdown",
   "id": "6b939eea-4385-4df4-bdc3-1b659dddd8da",
   "metadata": {},
   "source": [
    "## Plot Jam Durations"
   ]
  },
  {
   "cell_type": "code",
   "execution_count": 281,
   "id": "1763fc4f-a57d-40f3-a200-dd64b358d4fa",
   "metadata": {},
   "outputs": [],
   "source": [
    "jam_durations = jam_df['Jam_Duration'].dt.components['days'].to_numpy()*24 + jam_df['Jam_Duration'].dt.components['hours'].to_numpy()"
   ]
  },
  {
   "cell_type": "code",
   "execution_count": 282,
   "id": "980301ad-7607-44c2-93bd-5f39ad54a322",
   "metadata": {},
   "outputs": [],
   "source": [
    "jam_durations = jam_durations+1"
   ]
  },
  {
   "cell_type": "code",
   "execution_count": 283,
   "id": "6b287cb1-aa52-4184-88fb-d221d98fa1d2",
   "metadata": {},
   "outputs": [],
   "source": [
    "# jam_durations = jam_durations[jam_durations<10]"
   ]
  },
  {
   "cell_type": "code",
   "execution_count": 284,
   "id": "61d08ca3-8621-42c1-864c-3921b72171fb",
   "metadata": {},
   "outputs": [
    {
     "data": {
      "text/plain": [
       "Text(0, 0.5, 'Relative Frequency')"
      ]
     },
     "execution_count": 284,
     "metadata": {},
     "output_type": "execute_result"
    },
    {
     "data": {
      "image/png": "[encoded data removed]",
      "text/plain": [
       "<Figure size 576x360 with 1 Axes>"
      ]
     },
     "metadata": {
      "needs_background": "light"
     },
     "output_type": "display_data"
    }
   ],
   "source": [
    "plt.figure(figsize=(8,5))\n",
    "plt.hist(jam_durations,bins=range(1,24), weights=np.ones_like(jam_times)/len(jam_times), edgecolor='black')\n",
    "plt.title('Histogram Distribution of Jam Durations: Sao Paulo')\n",
    "plt.xlabel('Duration of Jam (in hours)')\n",
    "plt.ylabel('Relative Frequency')"
   ]
  },
  {
   "cell_type": "markdown",
   "id": "7274baa5-9c1a-4082-8e8d-4d029ae4d998",
   "metadata": {},
   "source": [
    "Average Number of hours per segment per day"
   ]
  },
  {
   "cell_type": "code",
   "execution_count": 285,
   "id": "c23da763-4dc6-4f6d-903f-4973eb04593c",
   "metadata": {},
   "outputs": [
    {
     "data": {
      "text/plain": [
       "0.001906372988197905"
      ]
     },
     "execution_count": 285,
     "metadata": {},
     "output_type": "execute_result"
    }
   ],
   "source": [
    "np.sum(jam_durations)/((365+366+90.0)*len(speed_df))"
   ]
  },
  {
   "cell_type": "code",
   "execution_count": 286,
   "id": "2cd61449-3734-42b1-ba9c-0a4def59e001",
   "metadata": {},
   "outputs": [
    {
     "data": {
      "text/plain": [
       "4794"
      ]
     },
     "execution_count": 286,
     "metadata": {},
     "output_type": "execute_result"
    }
   ],
   "source": [
    "np.sum(jam_durations)"
   ]
  },
  {
   "cell_type": "code",
   "execution_count": 287,
   "id": "6edce6db-f914-4900-834d-d9737684d673",
   "metadata": {},
   "outputs": [
    {
     "data": {
      "text/plain": [
       "5.839220462850183"
      ]
     },
     "execution_count": 287,
     "metadata": {},
     "output_type": "execute_result"
    }
   ],
   "source": [
    "np.sum(jam_durations)/(365+366+90.0)"
   ]
  },
  {
   "cell_type": "markdown",
   "id": "3020e303-d998-491e-b611-0c84be621a42",
   "metadata": {},
   "source": [
    "## Plot Speed Distributions"
   ]
  },
  {
   "cell_type": "code",
   "execution_count": 48,
   "id": "fe8115aa-a94c-49f2-a61c-b968837c665e",
   "metadata": {},
   "outputs": [],
   "source": [
    "s1 = speed_df['s1'].to_numpy()\n",
    "s2 = speed_df['s2'].to_numpy()\n",
    "mins = speed_df['min_speed'].to_numpy()\n",
    "maxs = speed_df['max_speed'].to_numpy()\n",
    "maxs = maxs[maxs<130]"
   ]
  },
  {
   "cell_type": "code",
   "execution_count": 49,
   "id": "31afd06a-622a-401d-acc7-ced27040b288",
   "metadata": {},
   "outputs": [
    {
     "data": {
      "text/plain": [
       "<matplotlib.legend.Legend at 0x152c94faccd0>"
      ]
     },
     "execution_count": 49,
     "metadata": {},
     "output_type": "execute_result"
    },
    {
     "data": {
      "image/png": "[encoded data removed]",
      "text/plain": [
       "<Figure size 576x360 with 1 Axes>"
      ]
     },
     "metadata": {
      "needs_background": "light"
     },
     "output_type": "display_data"
    }
   ],
   "source": [
    "plt.rcParams.update({'font.size': 14})\n",
    "plt.figure(figsize=(8,5))\n",
    "plt.hist(s1, alpha=0.5, bins=range(0,140,3), label='s1')\n",
    "plt.hist(s2, alpha=0.5, bins=range(0,140,3), label='s2')\n",
    "plt.hist(mins, alpha=0.5, bins=range(0,140,3), label='min speed')\n",
    "plt.hist(maxs, alpha=0.5, bins=range(0,140,3), label='max speed')\n",
    "plt.axvline(np.median(mins), linestyle='dashed', color='green')\n",
    "plt.axvline(np.median(maxs), linestyle='dashed', color='red')\n",
    "plt.axvline(np.median(s1), linestyle='dashed', color='blue')\n",
    "plt.axvline(np.median(s2), linestyle='dashed', color='orange')\n",
    "plt.title('Speed Distributions by Segment: Sao Paulo')\n",
    "plt.ylabel('Number of segments')\n",
    "plt.xlabel('Segment Speed(km/hr)')\n",
    "plt.legend()"
   ]
  },
  {
   "cell_type": "markdown",
   "id": "bf4476fc-b774-4406-a29b-87072fdfed1d",
   "metadata": {},
   "source": [
    "## Plot number of jams with s1"
   ]
  },
  {
   "cell_type": "code",
   "execution_count": 148,
   "id": "b1a400c9-53c1-4af3-8cb0-d6d69ce7cb30",
   "metadata": {},
   "outputs": [],
   "source": [
    "speed_df = speed_df.set_index('osm_wayid')\n",
    "speed_df = speed_df.loc[loc_ids]"
   ]
  },
  {
   "cell_type": "code",
   "execution_count": 149,
   "id": "8d0b66bd-9b7d-41a4-9af6-6fac37c0c3d4",
   "metadata": {},
   "outputs": [
    {
     "data": {
      "text/html": [
       "<div>\n",
       "<style scoped>\n",
       "    .dataframe tbody tr th:only-of-type {\n",
       "        vertical-align: middle;\n",
       "    }\n",
       "\n",
       "    .dataframe tbody tr th {\n",
       "        vertical-align: top;\n",
       "    }\n",
       "\n",
       "    .dataframe thead th {\n",
       "        text-align: right;\n",
       "    }\n",
       "</style>\n",
       "<table border=\"1\" class=\"dataframe\">\n",
       "  <thead>\n",
       "    <tr style=\"text-align: right;\">\n",
       "      <th></th>\n",
       "      <th>s1</th>\n",
       "      <th>s2</th>\n",
       "      <th>max_speed</th>\n",
       "      <th>min_speed</th>\n",
       "    </tr>\n",
       "    <tr>\n",
       "      <th>osm_wayid</th>\n",
       "      <th></th>\n",
       "      <th></th>\n",
       "      <th></th>\n",
       "      <th></th>\n",
       "    </tr>\n",
       "  </thead>\n",
       "  <tbody>\n",
       "    <tr>\n",
       "      <th>5029221</th>\n",
       "      <td>14.996111</td>\n",
       "      <td>42.136930</td>\n",
       "      <td>50.9632</td>\n",
       "      <td>3.5104</td>\n",
       "    </tr>\n",
       "    <tr>\n",
       "      <th>5668966</th>\n",
       "      <td>18.275689</td>\n",
       "      <td>41.610282</td>\n",
       "      <td>58.1680</td>\n",
       "      <td>2.8576</td>\n",
       "    </tr>\n",
       "    <tr>\n",
       "      <th>5668968</th>\n",
       "      <td>8.322603</td>\n",
       "      <td>23.078705</td>\n",
       "      <td>33.5200</td>\n",
       "      <td>4.7280</td>\n",
       "    </tr>\n",
       "    <tr>\n",
       "      <th>5668973</th>\n",
       "      <td>22.067607</td>\n",
       "      <td>43.388470</td>\n",
       "      <td>58.5200</td>\n",
       "      <td>8.4448</td>\n",
       "    </tr>\n",
       "    <tr>\n",
       "      <th>5668977</th>\n",
       "      <td>9.672885</td>\n",
       "      <td>25.499329</td>\n",
       "      <td>44.9632</td>\n",
       "      <td>3.3008</td>\n",
       "    </tr>\n",
       "    <tr>\n",
       "      <th>...</th>\n",
       "      <td>...</td>\n",
       "      <td>...</td>\n",
       "      <td>...</td>\n",
       "      <td>...</td>\n",
       "    </tr>\n",
       "    <tr>\n",
       "      <th>700238629</th>\n",
       "      <td>16.760826</td>\n",
       "      <td>23.898022</td>\n",
       "      <td>27.6448</td>\n",
       "      <td>7.8672</td>\n",
       "    </tr>\n",
       "    <tr>\n",
       "      <th>700407906</th>\n",
       "      <td>22.614384</td>\n",
       "      <td>35.570880</td>\n",
       "      <td>54.4464</td>\n",
       "      <td>2.1008</td>\n",
       "    </tr>\n",
       "    <tr>\n",
       "      <th>700407907</th>\n",
       "      <td>20.329679</td>\n",
       "      <td>34.119044</td>\n",
       "      <td>57.4288</td>\n",
       "      <td>1.1424</td>\n",
       "    </tr>\n",
       "    <tr>\n",
       "      <th>700407908</th>\n",
       "      <td>17.709058</td>\n",
       "      <td>34.158006</td>\n",
       "      <td>51.3712</td>\n",
       "      <td>2.8576</td>\n",
       "    </tr>\n",
       "    <tr>\n",
       "      <th>700407909</th>\n",
       "      <td>17.461941</td>\n",
       "      <td>33.440664</td>\n",
       "      <td>51.6144</td>\n",
       "      <td>2.9728</td>\n",
       "    </tr>\n",
       "  </tbody>\n",
       "</table>\n",
       "<p>22472 rows × 4 columns</p>\n",
       "</div>"
      ],
      "text/plain": [
       "                  s1         s2  max_speed  min_speed\n",
       "osm_wayid                                            \n",
       "5029221    14.996111  42.136930    50.9632     3.5104\n",
       "5668966    18.275689  41.610282    58.1680     2.8576\n",
       "5668968     8.322603  23.078705    33.5200     4.7280\n",
       "5668973    22.067607  43.388470    58.5200     8.4448\n",
       "5668977     9.672885  25.499329    44.9632     3.3008\n",
       "...              ...        ...        ...        ...\n",
       "700238629  16.760826  23.898022    27.6448     7.8672\n",
       "700407906  22.614384  35.570880    54.4464     2.1008\n",
       "700407907  20.329679  34.119044    57.4288     1.1424\n",
       "700407908  17.709058  34.158006    51.3712     2.8576\n",
       "700407909  17.461941  33.440664    51.6144     2.9728\n",
       "\n",
       "[22472 rows x 4 columns]"
      ]
     },
     "execution_count": 149,
     "metadata": {},
     "output_type": "execute_result"
    }
   ],
   "source": [
    "speed_df"
   ]
  },
  {
   "cell_type": "code",
   "execution_count": 150,
   "id": "98f21d65-a2be-4be6-8c18-01599af43088",
   "metadata": {},
   "outputs": [],
   "source": [
    "jam_freq = jam_df.groupby('osm_way_id').size().to_numpy()"
   ]
  },
  {
   "cell_type": "code",
   "execution_count": 151,
   "id": "d554a53f-e8c4-4551-aa39-92de88974c11",
   "metadata": {},
   "outputs": [],
   "source": [
    "s1 = speed_df['s1'].to_numpy()"
   ]
  },
  {
   "cell_type": "code",
   "execution_count": 152,
   "id": "df8dc94d-fffa-4a99-9a2d-e59aaf91fddd",
   "metadata": {},
   "outputs": [
    {
     "data": {
      "text/plain": [
       "22472"
      ]
     },
     "execution_count": 152,
     "metadata": {},
     "output_type": "execute_result"
    }
   ],
   "source": [
    "sum(jam_df.index.unique() == speed_df.index)"
   ]
  },
  {
   "cell_type": "code",
   "execution_count": 153,
   "id": "c8ca63aa-79b5-4c7a-a71c-c2e40f987166",
   "metadata": {},
   "outputs": [
    {
     "data": {
      "text/plain": [
       "<matplotlib.collections.PathCollection at 0x14896b684f10>"
      ]
     },
     "execution_count": 153,
     "metadata": {},
     "output_type": "execute_result"
    },
    {
     "data": {
      "image/png": "[encoded data removed]",
      "text/plain": [
       "<Figure size 432x288 with 1 Axes>"
      ]
     },
     "metadata": {
      "needs_background": "light"
     },
     "output_type": "display_data"
    }
   ],
   "source": [
    "plt.scatter(s1, jam_freq)"
   ]
  },
  {
   "cell_type": "markdown",
   "id": "07175deb-1479-4515-8c39-30c7d30c8a97",
   "metadata": {},
   "source": [
    "## Plot jam duration with s1"
   ]
  },
  {
   "cell_type": "code",
   "execution_count": 154,
   "id": "e70b05c9-3f88-4609-8dc5-7ab29a3de090",
   "metadata": {},
   "outputs": [],
   "source": [
    "jam_duration = jam_df.groupby('osm_way_id').Jam_Duration.sum()\n",
    "jam_duration = jam_duration.dt.components['days']*24 + jam_duration.dt.components['hours']"
   ]
  },
  {
   "cell_type": "code",
   "execution_count": 155,
   "id": "5796ff1f-aafd-47fb-b5e9-ada326ef5b56",
   "metadata": {},
   "outputs": [],
   "source": [
    "jam_duration = jam_duration.to_numpy()"
   ]
  },
  {
   "cell_type": "code",
   "execution_count": 156,
   "id": "c6d6dbb5-2860-4db6-a232-3755a83b2d13",
   "metadata": {},
   "outputs": [
    {
     "data": {
      "text/plain": [
       "<matplotlib.collections.PathCollection at 0x14896bd86ca0>"
      ]
     },
     "execution_count": 156,
     "metadata": {},
     "output_type": "execute_result"
    },
    {
     "data": {
      "image/png": "[encoded data removed]",
      "text/plain": [
       "<Figure size 432x288 with 1 Axes>"
      ]
     },
     "metadata": {
      "needs_background": "light"
     },
     "output_type": "display_data"
    }
   ],
   "source": [
    "plt.scatter(s1, jam_duration)"
   ]
  },
  {
   "cell_type": "code",
   "execution_count": null,
   "id": "bfee1edc-4bfd-410d-978b-3308a467cc86",
   "metadata": {},
   "outputs": [],
   "source": []
  },
  {
   "cell_type": "code",
   "execution_count": 22,
   "id": "c6e293e8-10cc-4fc7-84c4-86329aead6bf",
   "metadata": {},
   "outputs": [],
   "source": [
    "df = pd.read_csv('/scratch/ab9738/traffic/data/nairobi-hexclusters-2020-1-All-DatesByHourBucketsAggregate.csv')"
   ]
  },
  {
   "cell_type": "code",
   "execution_count": 23,
   "id": "52df00b9-a9ff-466a-a6d4-9f64993f7b1b",
   "metadata": {},
   "outputs": [],
   "source": [
    "df = df.set_index(['sourceid', 'dstid'])"
   ]
  },
  {
   "cell_type": "code",
   "execution_count": 24,
   "id": "57d613e0-7458-483e-8e05-6c264ad8f84a",
   "metadata": {},
   "outputs": [],
   "source": [
    "srcids = df.index.get_level_values('sourceid').unique().to_numpy()"
   ]
  },
  {
   "cell_type": "code",
   "execution_count": 17,
   "id": "90d4fe63-c20a-446c-a7b1-50462b3f4b02",
   "metadata": {},
   "outputs": [],
   "source": [
    "np.random.seed(17)\n",
    "np.random.shuffle(srcids)"
   ]
  },
  {
   "cell_type": "code",
   "execution_count": 26,
   "id": "f8902a31-4f08-4172-860b-5cd3c8711d6d",
   "metadata": {
    "scrolled": true,
    "tags": []
   },
   "outputs": [
    {
     "name": "stderr",
     "output_type": "stream",
     "text": [
      "100%|██████████| 371/371 [09:28<00:00,  1.53s/it]\n"
     ]
    }
   ],
   "source": [
    "def func(df):\n",
    "    return(df.max()/df.mean())\n",
    "\n",
    "tt_blow = []\n",
    "for src in tqdm(srcids):\n",
    "    dstids = df.loc[src].index.unique().to_numpy()\n",
    "    tt_ = Parallel(n_jobs=12)(delayed(func)(df.loc[src,dst]['mean_travel_time']) for dst in dstids)\n",
    "    tt_blow = tt_blow+tt_\n",
    "    # for dst in dstids:\n",
    "    #     df_ = df.loc[src,dst]['mean_travel_time']\n",
    "    #     tt_blow.append(df_.max()/df_.mean())\n",
    "        # tt = df_['mean_travel_time'].to_numpy()\n",
    "        # print(np.mean(tt), np.max(tt), np.max(tt)/np.mean(tt))\n",
    "        # tt_blow.append(np.max(tt)/np.mean(tt))\n",
    "tt_blow = np.array(tt_blow)"
   ]
  },
  {
   "cell_type": "code",
   "execution_count": 28,
   "id": "c8066c97-e13b-4e01-82e8-6f09822d4e05",
   "metadata": {},
   "outputs": [
    {
     "data": {
      "text/plain": [
       "Text(0, 0.5, 'Relative Frequency')"
      ]
     },
     "execution_count": 28,
     "metadata": {},
     "output_type": "execute_result"
    },
    {
     "data": {
      "image/png": "[encoded data removed]",
      "text/plain": [
       "<Figure size 800x500 with 1 Axes>"
      ]
     },
     "metadata": {},
     "output_type": "display_data"
    }
   ],
   "source": [
    "plt.rcParams.update({'font.size': 14})\n",
    "plt.figure(figsize=(8,5))\n",
    "plt.hist(tt_blow, bins=np.arange(24)*0.5, edgecolor='black', weights=np.ones_like(tt_blow)/len(tt_blow))\n",
    "plt.title('Travel Time Blow-Up for Source-Destination Pairs: Nairobi')\n",
    "plt.xlabel('Max increase in travel time')\n",
    "plt.ylabel('Relative Frequency')"
   ]
  },
  {
   "cell_type": "code",
   "execution_count": null,
   "id": "bf5344fa-1da1-43e6-9d89-c43acaa16bd6",
   "metadata": {},
   "outputs": [],
   "source": []
  }
 ],
 "metadata": {
  "kernelspec": {
   "display_name": "Python 3 (ipykernel)",
   "language": "python",
   "name": "python3"
  },
  "language_info": {
   "codemirror_mode": {
    "name": "ipython",
    "version": 3
   },
   "file_extension": ".py",
   "mimetype": "text/x-python",
   "name": "python",
   "nbconvert_exporter": "python",
   "pygments_lexer": "ipython3",
   "version": "3.9.13"
  }
 },
 "nbformat": 4,
 "nbformat_minor": 5
}
