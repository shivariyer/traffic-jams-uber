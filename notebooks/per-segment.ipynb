{
 "cells": [
  {
   "cell_type": "code",
   "execution_count": 1,
   "metadata": {},
   "outputs": [],
   "source": [
    "import pandas as pd\n",
    "from copy import deepcopy\n",
    "import os\n",
    "from joblib import Parallel, delayed"
   ]
  },
  {
   "cell_type": "code",
   "execution_count": 3,
   "metadata": {},
   "outputs": [],
   "source": [
    "file_list = os.listdir('/scratch/ab9738/traffic/data/Sao_Paulo/')"
   ]
  },
  {
   "cell_type": "code",
   "execution_count": 4,
   "metadata": {},
   "outputs": [],
   "source": [
    "file_list = [file for file in file_list if '.csv' in file]"
   ]
  },
  {
   "cell_type": "code",
   "execution_count": 5,
   "metadata": {},
   "outputs": [],
   "source": [
    "def save(df,way_id):\n",
    "    df_way_id = deepcopy(df.loc[way_id])\n",
    "    if isinstance(df_way_id, pd.Series):\n",
    "        df_way_id.to_frame().transpose().set_index(['utc_timestamp'],drop=True)\n",
    "    else:\n",
    "        df_way_id = df_way_id.set_index(['utc_timestamp'],drop='True')\n",
    "    df_way_id.to_csv('/scratch/ab9738/traffic/data/Sao_Paulo/per-segment/'+str(way_id)+'.csv',mode='a')\n",
    "\n",
    "for file in [file_list[0]]:\n",
    "    df = pd.read_csv('/scratch/ab9738/traffic/data/Sao_Paulo/'+file)\n",
    "\n",
    "    df = df.drop(['year','month','day','hour','segment_id','start_junction_id',\\\n",
    "             'end_junction_id','osm_start_node_id','osm_end_node_id'],axis=1)\n",
    "\n",
    "    df = df.set_index(['osm_way_id'])\n",
    "\n",
    "    way_ids = list(set(df.index))\n",
    "\n",
    "#     for way_id in way_ids[9:50]:\n",
    "#         df_way_id = deepcopy(df.loc[way_id])\n",
    "#         if isinstance(df_way_id, pd.Series):\n",
    "#             df_way_id.to_frame().transpose().set_index(['utc_timestamp'],drop=True)\n",
    "#         else:\n",
    "#             df_way_id = df_way_id.set_index(['utc_timestamp'],drop='True')\n",
    "#         df_way_id.to_csv('/scratch/ab9738/traffic/data/Sao_Paulo/per-segment/'+str(way_id)+'.csv',mode='a')\n",
    "    # Parallel(n_jobs=5)(delayed(save)(df,way_id) for way_id in way_ids[:50])"
   ]
  },
  {
   "cell_type": "code",
   "execution_count": 6,
   "metadata": {},
   "outputs": [
    {
     "data": {
      "text/plain": [
       "66580"
      ]
     },
     "execution_count": 6,
     "metadata": {},
     "output_type": "execute_result"
    }
   ],
   "source": [
    "len(way_ids)"
   ]
  },
  {
   "cell_type": "code",
   "execution_count": 19,
   "metadata": {},
   "outputs": [
    {
     "data": {
      "text/plain": [
       "osm_way_id\n",
       "4273875       653\n",
       "4273889       650\n",
       "4300280       147\n",
       "4312746      1366\n",
       "4317930       707\n",
       "             ... \n",
       "700219919      12\n",
       "700219920      39\n",
       "700219922       2\n",
       "700265191    1015\n",
       "700265192     989\n",
       "Length: 66580, dtype: int64"
      ]
     },
     "execution_count": 19,
     "metadata": {},
     "output_type": "execute_result"
    }
   ],
   "source": [
    "df_size = df.groupby(df.index).size()\n",
    "df_size"
   ]
  },
  {
   "cell_type": "code",
   "execution_count": 16,
   "metadata": {},
   "outputs": [
    {
     "data": {
      "text/plain": [
       "'movement-speeds-hourly-sao-paulo-2018-9.csv'"
      ]
     },
     "execution_count": 16,
     "metadata": {},
     "output_type": "execute_result"
    }
   ],
   "source": [
    "file"
   ]
  },
  {
   "cell_type": "code",
   "execution_count": null,
   "metadata": {},
   "outputs": [],
   "source": []
  }
 ],
 "metadata": {
  "kernelspec": {
   "display_name": "Python 3",
   "language": "python",
   "name": "python3"
  },
  "language_info": {
   "codemirror_mode": {
    "name": "ipython",
    "version": 3
   },
   "file_extension": ".py",
   "mimetype": "text/x-python",
   "name": "python",
   "nbconvert_exporter": "python",
   "pygments_lexer": "ipython3",
   "version": "3.8.3"
  }
 },
 "nbformat": 4,
 "nbformat_minor": 4
}
